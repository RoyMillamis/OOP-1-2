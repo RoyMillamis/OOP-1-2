{
  "nbformat": 4,
  "nbformat_minor": 0,
  "metadata": {
    "colab": {
      "name": "Activity 2.ipynb",
      "provenance": [],
      "collapsed_sections": [],
      "authorship_tag": "ABX9TyN+0KvsOgTj01vL/jGtohOf",
      "include_colab_link": true
    },
    "kernelspec": {
      "name": "python3",
      "display_name": "Python 3"
    },
    "language_info": {
      "name": "python"
    }
  },
  "cells": [
    {
      "cell_type": "markdown",
      "metadata": {
        "id": "view-in-github",
        "colab_type": "text"
      },
      "source": [
        "<a href=\"https://colab.research.google.com/github/RoyMillamis/OOP-1-2/blob/main/Activity_2.ipynb\" target=\"_parent\"><img src=\"https://colab.research.google.com/assets/colab-badge.svg\" alt=\"Open In Colab\"/></a>"
      ]
    },
    {
      "cell_type": "code",
      "source": [
        "#Write a python program that converts the temperature Celsius to Fahrenheit. Create a class name Temperature.\n",
        "#Create Celsius as attribute name, Temp() as method and temp1 as object name. F = 1.8*C = 32\n",
        "\n",
        "class Temperature:\n",
        "  def __init__(self,Celsius):\n",
        "    self.Celsius = Celsius\n",
        "\n",
        "  def Temp(self):\n",
        "    return 1.8*self.Celsius+32 #Formula to convert Celsius to Fahrenheit\n",
        "\n",
        "\n",
        "temp1 = Temperature(30)\n",
        "\n",
        "print('Input Celsius is:',temp1.Celsius)\n",
        "print('Fahrenheit:',round(temp1.Temp(),2))\n",
        "\n",
        "\n",
        "\n",
        "\n",
        "\n",
        "                   \n",
        "\n"
      ],
      "metadata": {
        "colab": {
          "base_uri": "https://localhost:8080/"
        },
        "id": "MSSBovATy8vH",
        "outputId": "611f8729-6bd6-411e-931a-6b583f23d14e"
      },
      "execution_count": null,
      "outputs": [
        {
          "output_type": "stream",
          "name": "stdout",
          "text": [
            "Input Celsius is: 30\n",
            "Fahrenheit: 86.0\n"
          ]
        }
      ]
    },
    {
      "cell_type": "code",
      "source": [
        "#1. Define an Area() method of the class that calculates circle's area.\n",
        "#2.\tDefine a Perimeter() method of the class which allows you to calculate the perimeter of the circle.\n",
        "\n",
        "class Circle:\n",
        "\n",
        "  def __init__(self,radius):\n",
        "    self.radius=radius  \n",
        "  \n",
        "  \n",
        "  def Area(self):\n",
        "    return 3.14*self.radius**2 #Formula to calculate the area of the circle\n",
        "\n",
        "  def Perimeter(self): \n",
        "    return 2*3.14*self.radius # Formula to calculate the perimeter of the circle\n",
        "\n",
        "  \n",
        "Radius=Circle(6)\n",
        "\n",
        "print('The area of the circle is',round(Radius.Area()),2)\n",
        "print('The perimeter of the circle is',round(Radius.Perimeter(),2))"
      ],
      "metadata": {
        "colab": {
          "base_uri": "https://localhost:8080/"
        },
        "id": "L5DlKnwvXadw",
        "outputId": "3ca2abb6-c8b0-4aac-ea68-862b24709168"
      },
      "execution_count": 38,
      "outputs": [
        {
          "output_type": "stream",
          "name": "stdout",
          "text": [
            "The area of the circle is 113 2\n",
            "The perimeter of the circle is 37.68\n"
          ]
        }
      ]
    }
  ]
}