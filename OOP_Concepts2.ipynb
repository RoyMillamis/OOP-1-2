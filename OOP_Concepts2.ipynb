{
  "nbformat": 4,
  "nbformat_minor": 0,
  "metadata": {
    "colab": {
      "name": "OOP_Concepts2.ipynb",
      "provenance": [],
      "collapsed_sections": [],
      "authorship_tag": "ABX9TyNYUcK/y2olbdB0rHOnf382",
      "include_colab_link": true
    },
    "kernelspec": {
      "name": "python3",
      "display_name": "Python 3"
    },
    "language_info": {
      "name": "python"
    }
  },
  "cells": [
    {
      "cell_type": "markdown",
      "metadata": {
        "id": "view-in-github",
        "colab_type": "text"
      },
      "source": [
        "<a href=\"https://colab.research.google.com/github/RoyMillamis/OOP-1-2/blob/main/OOP_Concepts2.ipynb\" target=\"_parent\"><img src=\"https://colab.research.google.com/assets/colab-badge.svg\" alt=\"Open In Colab\"/></a>"
      ]
    },
    {
      "cell_type": "markdown",
      "source": [
        "Classes with Multiple Objects"
      ],
      "metadata": {
        "id": "xakRlbfpwxBu"
      }
    },
    {
      "cell_type": "code",
      "source": [
        "class Birds:\n",
        "  def __init__(self,bird_name):\n",
        "    self.bird_name=bird_name\n",
        "  \n",
        "  def flying_birds(self):\n",
        "    print(f\"{self.bird_name} flies above the sky\")\n",
        "  \n",
        "  def non_flying_birds(self):\n",
        "    print(f\"{self.bird_name} is the national bird of the Philippines\")\n",
        "\n",
        "vulture=Birds(\"Griffon Vulture\")\n",
        "crane=Birds(\"Common Crane\")\n",
        "emu=Birds(\"Emu\")\n",
        "\n",
        "vulture.flying_birds()\n",
        "crane.flying_birds()\n",
        "emu.non_flying_birds()"
      ],
      "metadata": {
        "colab": {
          "base_uri": "https://localhost:8080/"
        },
        "id": "frHhnumZw5eW",
        "outputId": "c3518a8d-96dc-4866-dffa-f5a21a8dd6a8"
      },
      "execution_count": null,
      "outputs": [
        {
          "output_type": "stream",
          "name": "stdout",
          "text": [
            "Griffon Vulture flies above the sky\n",
            "Common Crane flies above the sky\n",
            "Emu is the national bird of the Philippines\n"
          ]
        }
      ]
    },
    {
      "cell_type": "markdown",
      "source": [
        "Encapsulation"
      ],
      "metadata": {
        "id": "0zYye040y4p1"
      }
    },
    {
      "cell_type": "code",
      "source": [
        "class foo:\n",
        "  def __init__(self,a,b):\n",
        "    self.a=a\n",
        "    self.b=b\n",
        "  def add(self):\n",
        "    return self.a+self.b\n",
        "\n",
        "number = foo(3,4)\n",
        "number.add()\n",
        "\n"
      ],
      "metadata": {
        "colab": {
          "base_uri": "https://localhost:8080/"
        },
        "id": "qRTNegmxytnf",
        "outputId": "0ef36eb7-b23f-46f5-a6fd-1f4667a86cae"
      },
      "execution_count": null,
      "outputs": [
        {
          "output_type": "execute_result",
          "data": {
            "text/plain": [
              "7"
            ]
          },
          "metadata": {},
          "execution_count": 8
        }
      ]
    },
    {
      "cell_type": "code",
      "source": [
        "class foo:\n",
        "  def __init__(self,a,b):\n",
        "    self.a=a\n",
        "    self.b=b\n",
        "  def add(self):\n",
        "    return self.a+self.b\n",
        "\n",
        "number = foo(3,4) #9+3=13\n",
        "number.add()\n",
        "\n",
        "number.a=9\n",
        "number.add()"
      ],
      "metadata": {
        "colab": {
          "base_uri": "https://localhost:8080/"
        },
        "id": "Tc84BLlXztuM",
        "outputId": "83985454-4141-4317-bb1f-442e5cdacdf9"
      },
      "execution_count": null,
      "outputs": [
        {
          "output_type": "execute_result",
          "data": {
            "text/plain": [
              "13"
            ]
          },
          "metadata": {},
          "execution_count": 9
        }
      ]
    },
    {
      "cell_type": "markdown",
      "source": [
        "Encapsulation using mangling with double underscores"
      ],
      "metadata": {
        "id": "XU9FYT3e0Ygz"
      }
    },
    {
      "cell_type": "code",
      "source": [
        "class foo:\n",
        "  def __init__(self,a,b):\n",
        "    self.__a=a\n",
        "    self.__b=b\n",
        "  def add(self):\n",
        "    return self.__a+self.__b # private attributes\n",
        "\n",
        "number = foo(3,4) #7+4=11\n",
        "number.add()\n",
        "\n",
        "number.a=7\n",
        "number.add()"
      ],
      "metadata": {
        "colab": {
          "base_uri": "https://localhost:8080/"
        },
        "id": "iyit_YLZz-ME",
        "outputId": "06074a3a-4487-4b79-8453-dd03b4cce4d0"
      },
      "execution_count": null,
      "outputs": [
        {
          "output_type": "execute_result",
          "data": {
            "text/plain": [
              "7"
            ]
          },
          "metadata": {},
          "execution_count": 10
        }
      ]
    },
    {
      "cell_type": "markdown",
      "source": [
        "Encapsulation with Private Attributes"
      ],
      "metadata": {
        "id": "RQwUHY6I0-6V"
      }
    },
    {
      "cell_type": "code",
      "source": [
        "class Counter:\n",
        "  def __init__(self):\n",
        "    self.current = 0\n",
        "\n",
        "  def increment(self):\n",
        "    self.current +=1\n",
        "\n",
        "  def value(self):\n",
        "    return self.current\n",
        "  \n",
        "  def reset(self):\n",
        "    self.current=0\n",
        "  \n",
        "num = Counter()\n",
        "num.increment()  # counter = counter +1\n",
        "num.increment()  \n",
        "num.increment()\n",
        "\n",
        "num.value()"
      ],
      "metadata": {
        "colab": {
          "base_uri": "https://localhost:8080/"
        },
        "id": "2AcUj7eU0lCd",
        "outputId": "10ae6cdd-8c0c-4ed5-c814-dcf4f7bf3651"
      },
      "execution_count": null,
      "outputs": [
        {
          "output_type": "execute_result",
          "data": {
            "text/plain": [
              "3"
            ]
          },
          "metadata": {},
          "execution_count": 11
        }
      ]
    },
    {
      "cell_type": "markdown",
      "source": [
        "Encapsulation using mangling with double underscores"
      ],
      "metadata": {
        "id": "Wnjqf97I3R9M"
      }
    },
    {
      "cell_type": "code",
      "source": [
        "class Counter:\n",
        "  def __init__(self):\n",
        "    self.__current = 0  \n",
        "\n",
        "  def increment(self):\n",
        "    self.__current +=1\n",
        "\n",
        "  def value(self):\n",
        "    return self.__current\n",
        "  \n",
        "  def reset(self):\n",
        "    self.__current=0\n",
        "  \n",
        "num = Counter()\n",
        "num.counter = 1\n",
        "num.increment()  \n",
        "num.increment()  \n",
        "num.increment()\n",
        "\n",
        "\n",
        "num.value()\n"
      ],
      "metadata": {
        "colab": {
          "base_uri": "https://localhost:8080/"
        },
        "id": "heVoWYkn2SYi",
        "outputId": "e2ee3be0-75ff-401a-d27e-e6ccbe80dae6"
      },
      "execution_count": null,
      "outputs": [
        {
          "output_type": "execute_result",
          "data": {
            "text/plain": [
              "3"
            ]
          },
          "metadata": {},
          "execution_count": 25
        }
      ]
    },
    {
      "cell_type": "code",
      "source": [
        "class Counter:\n",
        "  def __init__(self):\n",
        "    self.__current = 0  \n",
        "\n",
        "  def increment(self):\n",
        "    self.__current +=1\n",
        "\n",
        "  def value(self):\n",
        "    return self.__current\n",
        "  \n",
        "  def reset(self):\n",
        "    self.__current=0\n",
        "  \n",
        "num = Counter()\n",
        "\n",
        "num.increment()  \n",
        "num.increment()  \n",
        "num.increment()\n",
        "\n",
        "num.counter = 1\n",
        "\n",
        "\n",
        "num.value()\n"
      ],
      "metadata": {
        "colab": {
          "base_uri": "https://localhost:8080/"
        },
        "id": "FmIfdu373rea",
        "outputId": "52e91232-0aa4-4f43-82a6-1e0c5492351c"
      },
      "execution_count": null,
      "outputs": [
        {
          "output_type": "execute_result",
          "data": {
            "text/plain": [
              "3"
            ]
          },
          "metadata": {},
          "execution_count": 31
        }
      ]
    },
    {
      "cell_type": "markdown",
      "source": [
        "Inheritance"
      ],
      "metadata": {
        "id": "6B_OmC-S4u4R"
      }
    },
    {
      "cell_type": "code",
      "source": [
        "class Person:\n",
        "  def __init__ (self,firstname,surname):\n",
        "    self.firstname=firstname\n",
        "    self.surname= surname\n",
        "\n",
        "  def printname(self):\n",
        "    print(self.firstname,self.surname)\n",
        "\n",
        "person = Person(\"Roy\",\"Millamis\")\n",
        "person.printname()"
      ],
      "metadata": {
        "colab": {
          "base_uri": "https://localhost:8080/"
        },
        "id": "j6hyOP1q4way",
        "outputId": "6612a10d-f540-4d35-c651-bb2627ac8a06"
      },
      "execution_count": null,
      "outputs": [
        {
          "output_type": "stream",
          "name": "stdout",
          "text": [
            "Roy Millamis\n"
          ]
        }
      ]
    },
    {
      "cell_type": "code",
      "source": [
        "class Person:\n",
        "  def __init__ (self,firstname,surname):\n",
        "    self.firstname=firstname\n",
        "    self.surname= surname\n",
        "\n",
        "  def printname(self):\n",
        "    print(self.firstname,self.surname)\n",
        "\n",
        "person = Person(\"Roy\",\"Millamis\")\n",
        "person.printname()\n",
        "\n",
        "class Teacher(Person):\n",
        "  pass\n",
        "\n",
        "person2= Teacher(\"Paul\",\"Millamis\")\n",
        "\n",
        "person2.printname()"
      ],
      "metadata": {
        "colab": {
          "base_uri": "https://localhost:8080/"
        },
        "id": "m78xxl6b50xR",
        "outputId": "cf2dfa95-ef81-4289-92cd-04e8a6deb85d"
      },
      "execution_count": null,
      "outputs": [
        {
          "output_type": "stream",
          "name": "stdout",
          "text": [
            "Roy Millamis\n",
            "Paul Millamis\n"
          ]
        }
      ]
    },
    {
      "cell_type": "code",
      "source": [
        "class Person:\n",
        "  def __init__ (self,firstname,surname):\n",
        "    self.firstname=firstname\n",
        "    self.surname= surname\n",
        "\n",
        "  def printname(self):\n",
        "    print(self.firstname,self.surname)\n",
        "\n",
        "person = Person(\"Roy\",\"Millamis\")\n",
        "person.printname()\n",
        "\n",
        "class Teacher(Person):\n",
        "  pass\n",
        "\n",
        "person2= Teacher(\"Paul\",\"Millamis\")\n",
        "\n",
        "person2.printname()\n",
        "\n",
        "class Student(Person):\n",
        "  pass\n",
        "\n",
        "person3 =Student(\"Wenie\",\"Millamis\")\n",
        "person3.printname()"
      ],
      "metadata": {
        "colab": {
          "base_uri": "https://localhost:8080/"
        },
        "id": "o6EN2uDu6XlI",
        "outputId": "2515865b-4691-409b-bd32-90688de32838"
      },
      "execution_count": null,
      "outputs": [
        {
          "output_type": "stream",
          "name": "stdout",
          "text": [
            "Roy Millamis\n",
            "Paul Millamis\n",
            "Wenie Millamis\n"
          ]
        }
      ]
    },
    {
      "cell_type": "markdown",
      "source": [
        "Polymorphism"
      ],
      "metadata": {
        "id": "l_g0RozZ6vLp"
      }
    },
    {
      "cell_type": "code",
      "source": [
        "class RegularPolygon:\n",
        "  def __init__(self,side):\n",
        "    self.side = side\n",
        "\n",
        "class Square(RegularPolygon):\n",
        "  def area(self):\n",
        "    return self.side*self.side\n",
        "  \n",
        "class EquilateralTriangle(RegularPolygon):\n",
        "  def area(self):\n",
        "    return self.side*self.side*0.433\n",
        "\n",
        "object = Square(4)\n",
        "print(object.area())\n",
        "\n",
        "object2=EquilateralTriangle(3)\n",
        "print(object2.area())"
      ],
      "metadata": {
        "colab": {
          "base_uri": "https://localhost:8080/"
        },
        "id": "xvUNYYQw6y_f",
        "outputId": "203a8d30-6caa-4eb0-e1dd-a3e1a2dceb5b"
      },
      "execution_count": null,
      "outputs": [
        {
          "output_type": "stream",
          "name": "stdout",
          "text": [
            "16\n",
            "3.897\n"
          ]
        }
      ]
    },
    {
      "cell_type": "markdown",
      "source": [
        "Application 1 - \n",
        "1. Create a Python Program that displays the name of three students (Student1,Student 2, and Student 3) and their term grade\n",
        "2. Create a class name Person and Attributes - std1,std2,std3,pre,mid,fin\n",
        "3. Compute the average of each term grade using Grade()method\n",
        "4. Information about student's grades must be hidden from others"
      ],
      "metadata": {
        "id": "-fWwwmSj9L3v"
      }
    },
    {
      "cell_type": "code",
      "source": [
        "class Person:\n",
        "  def __init__(self,std1,pre,mid,fin):\n",
        "    self.std1=std1\n",
        "    self.__pre=pre\n",
        "    self.__mid=mid\n",
        "    self.__fin=fin\n",
        "\n",
        "  def printname(self):\n",
        "    print(self.std1)\n",
        "\n",
        "\n",
        "  def Grade(self):\n",
        "    return (self.__pre*.70+self.__mid*.70+self.__fin*.70)/300*100\n",
        "\n",
        "std1 = Person(\"Roy\",100,100,100)\n",
        "print(std1.printname,std1.Grade())\n",
        "\n",
        "\n",
        "\n",
        "  "
      ],
      "metadata": {
        "id": "9X8fDy9TJvCx",
        "colab": {
          "base_uri": "https://localhost:8080/"
        },
        "outputId": "8e46f563-6b09-4efb-98d9-9057bc5f8841"
      },
      "execution_count": 42,
      "outputs": [
        {
          "output_type": "stream",
          "name": "stdout",
          "text": [
            "<bound method Person.printname of <__main__.Person object at 0x7f40ab7b5c90>> 70.0\n"
          ]
        }
      ]
    }
  ]
}