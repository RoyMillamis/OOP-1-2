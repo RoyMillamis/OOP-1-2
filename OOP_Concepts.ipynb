{
  "nbformat": 4,
  "nbformat_minor": 0,
  "metadata": {
    "colab": {
      "name": "OOP Concepts.ipynb",
      "provenance": [],
      "collapsed_sections": [],
      "authorship_tag": "ABX9TyN6xqRD5nQhlozIwpaPaOb0",
      "include_colab_link": true
    },
    "kernelspec": {
      "name": "python3",
      "display_name": "Python 3"
    },
    "language_info": {
      "name": "python"
    }
  },
  "cells": [
    {
      "cell_type": "markdown",
      "metadata": {
        "id": "view-in-github",
        "colab_type": "text"
      },
      "source": [
        "<a href=\"https://colab.research.google.com/github/RoyMillamis/OOP-1-2/blob/main/OOP_Concepts.ipynb\" target=\"_parent\"><img src=\"https://colab.research.google.com/assets/colab-badge.svg\" alt=\"Open In Colab\"/></a>"
      ]
    },
    {
      "cell_type": "markdown",
      "source": [
        "#Python Classes and Objects\n",
        "###Create a Class"
      ],
      "metadata": {
        "id": "C91ZIhuVCyee"
      }
    },
    {
      "cell_type": "code",
      "source": [
        "class MyClass:\n",
        "  pass"
      ],
      "metadata": {
        "id": "3O-t0-jGC-Ye"
      },
      "execution_count": null,
      "outputs": []
    },
    {
      "cell_type": "code",
      "source": [
        "class OOP1_2:\n",
        "  X = 5\n",
        "  print(X)"
      ],
      "metadata": {
        "colab": {
          "base_uri": "https://localhost:8080/"
        },
        "id": "OWta1DF0DZhN",
        "outputId": "6188e2af-2a9c-47f1-c828-fd4c5b2697e4"
      },
      "execution_count": null,
      "outputs": [
        {
          "output_type": "stream",
          "name": "stdout",
          "text": [
            "5\n"
          ]
        }
      ]
    },
    {
      "cell_type": "markdown",
      "source": [
        "###Create Objects"
      ],
      "metadata": {
        "id": "G3LoNjzCDcHl"
      }
    },
    {
      "cell_type": "code",
      "source": [
        "class OOP1_2:\n",
        "  def __init__(self,name,age): #__init__(parameter)\n",
        "   self.name=name  #Attributes\n",
        "   self.age=age\n",
        "\n",
        "  def identity(self):\n",
        "   print(self.name,self.age)\n",
        "  \n",
        "person = OOP1_2(\"Roy\",20)#create objects\n",
        "\n",
        "print(person.name)\n",
        "print(person.age)\n",
        "print(person.identity)\n",
        "\n"
      ],
      "metadata": {
        "colab": {
          "base_uri": "https://localhost:8080/"
        },
        "id": "US0FP750DfYl",
        "outputId": "b5177e77-f462-46e5-917c-5fdb5ca5c9bd"
      },
      "execution_count": null,
      "outputs": [
        {
          "output_type": "stream",
          "name": "stdout",
          "text": [
            "Roy\n",
            "20\n",
            "<bound method OOP1_2.identity of <__main__.OOP1_2 object at 0x7f0a1ce4cb90>>\n"
          ]
        }
      ]
    },
    {
      "cell_type": "code",
      "source": [
        "#Modify the Object Name\n",
        "\n",
        "person.name =\"Roying\"\n",
        "print(person.name)\n",
        "print(person.age)"
      ],
      "metadata": {
        "colab": {
          "base_uri": "https://localhost:8080/"
        },
        "id": "f0pLhTVAfsP-",
        "outputId": "607a8fa0-1ddc-426a-cbb6-542d1b0d251b"
      },
      "execution_count": null,
      "outputs": [
        {
          "output_type": "stream",
          "name": "stdout",
          "text": [
            "Roying\n",
            "20\n"
          ]
        }
      ]
    },
    {
      "cell_type": "code",
      "source": [
        "person.age = 21\n",
        "print(person.name)\n",
        "print(person.age)\n"
      ],
      "metadata": {
        "colab": {
          "base_uri": "https://localhost:8080/"
        },
        "id": "ybxOoZARgDRV",
        "outputId": "1e5866eb-85bb-47e1-e56f-a8f97cd399cb"
      },
      "execution_count": null,
      "outputs": [
        {
          "output_type": "stream",
          "name": "stdout",
          "text": [
            "Roying\n",
            "21\n"
          ]
        }
      ]
    },
    {
      "cell_type": "code",
      "source": [
        "#Delete the object\n",
        "\n",
        "del person.name"
      ],
      "metadata": {
        "id": "dctejrY5gPRN"
      },
      "execution_count": null,
      "outputs": []
    },
    {
      "cell_type": "code",
      "source": [
        "print(person.name)"
      ],
      "metadata": {
        "colab": {
          "base_uri": "https://localhost:8080/",
          "height": 165
        },
        "id": "L0F7_BCmgdn0",
        "outputId": "2a7bdb1c-efee-4483-e227-a43688d2b38a"
      },
      "execution_count": null,
      "outputs": [
        {
          "output_type": "error",
          "ename": "AttributeError",
          "evalue": "ignored",
          "traceback": [
            "\u001b[0;31m---------------------------------------------------------------------------\u001b[0m",
            "\u001b[0;31mAttributeError\u001b[0m                            Traceback (most recent call last)",
            "\u001b[0;32m<ipython-input-6-8da234c70cac>\u001b[0m in \u001b[0;36m<module>\u001b[0;34m()\u001b[0m\n\u001b[0;32m----> 1\u001b[0;31m \u001b[0mprint\u001b[0m\u001b[0;34m(\u001b[0m\u001b[0mperson\u001b[0m\u001b[0;34m.\u001b[0m\u001b[0mname\u001b[0m\u001b[0;34m)\u001b[0m\u001b[0;34m\u001b[0m\u001b[0;34m\u001b[0m\u001b[0m\n\u001b[0m",
            "\u001b[0;31mAttributeError\u001b[0m: 'MyCLass' object has no attribute 'name'"
          ]
        }
      ]
    },
    {
      "cell_type": "markdown",
      "source": [
        "#Application 1"
      ],
      "metadata": {
        "id": "C6MCxRHIFpYc"
      }
    },
    {
      "cell_type": "markdown",
      "source": [
        "###Write a python program that computes the area of a square, and the name its class as Square, side as attributes"
      ],
      "metadata": {
        "id": "I_jwkMcGbHWI"
      }
    },
    {
      "cell_type": "code",
      "source": [
        "class Square:\n",
        "  def __init__(self,side):\n",
        "    self.sides=side\n",
        "\n",
        "  def area(self):\n",
        "    return self.sides*self.sides  #formula to compute the area of the square\n",
        "\n",
        "  def display(self):\n",
        "    print('the area of the square is:',self.area ())\n",
        "\n",
        "square = Square(4)\n",
        "\n",
        "print(square.sides)\n",
        "square.display()"
      ],
      "metadata": {
        "colab": {
          "base_uri": "https://localhost:8080/"
        },
        "id": "9NrnsSDdbIdw",
        "outputId": "6496638e-0b49-4095-9c1f-4fcca0880f4f"
      },
      "execution_count": null,
      "outputs": [
        {
          "output_type": "stream",
          "name": "stdout",
          "text": [
            "4\n",
            "the area of the square is: 16\n"
          ]
        }
      ]
    },
    {
      "cell_type": "markdown",
      "source": [
        "##Application 2\n",
        "###Write a Python program that displays your full name,age, course, school. Create a class named MyClass, and name, age, course, school as attributes.\n"
      ],
      "metadata": {
        "id": "O3eazBfVF5sT"
      }
    },
    {
      "cell_type": "code",
      "source": [
        "class MyCLass:\n",
        "\n",
        "    def __init__(self, name, age, course, school):\n",
        "        self.name = name\n",
        "        self.age= age\n",
        "        self.course = course\n",
        "        self.school = school\n",
        "\n",
        "    def identity(self):\n",
        "      print(self.name,self.age,self.course,self.school)\n",
        "\n",
        "\n",
        "person = MyCLass(\n",
        "    \"Roy Millamis\",\n",
        "    \"20\",\n",
        "    \"Bachelor of Science in Computer Engineering\",\n",
        "    \"Cavite State Univerity Main Campus\"\n",
        ")\n",
        "\n",
        "print(person.name)\n",
        "print(person.age)\n",
        "print(person.school)\n",
        "print(person.course)\n",
        "person.identity()\n",
        "print(person.identity)\n",
        "\n"
      ],
      "metadata": {
        "colab": {
          "base_uri": "https://localhost:8080/"
        },
        "id": "3hdv30iYF-w8",
        "outputId": "72da44e4-b2f0-443d-86ff-cd59cef1cf4a"
      },
      "execution_count": 13,
      "outputs": [
        {
          "output_type": "stream",
          "name": "stdout",
          "text": [
            "Roy Millamis\n",
            "20\n",
            "Cavite State Univerity Main Campus\n",
            "Bachelor of Science in Compter Engineering\n",
            "Roy Millamis 20 Bachelor of Science in Compter Engineering Cavite State Univerity Main Campus\n",
            "<bound method MyCLass.identity of <__main__.MyCLass object at 0x7faa5107bad0>>\n"
          ]
        }
      ]
    }
  ]
}