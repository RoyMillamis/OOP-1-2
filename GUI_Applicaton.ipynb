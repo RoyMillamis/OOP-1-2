{
  "nbformat": 4,
  "nbformat_minor": 0,
  "metadata": {
    "colab": {
      "name": "GUI Applicaton.ipynb",
      "provenance": [],
      "authorship_tag": "ABX9TyNbuV0dXJ/UtvXBGxygWE4s",
      "include_colab_link": true
    },
    "kernelspec": {
      "name": "python3",
      "display_name": "Python 3"
    },
    "language_info": {
      "name": "python"
    }
  },
  "cells": [
    {
      "cell_type": "markdown",
      "metadata": {
        "id": "view-in-github",
        "colab_type": "text"
      },
      "source": [
        "<a href=\"https://colab.research.google.com/github/RoyMillamis/OOP-1-2/blob/main/GUI_Applicaton.ipynb\" target=\"_parent\"><img src=\"https://colab.research.google.com/assets/colab-badge.svg\" alt=\"Open In Colab\"/></a>"
      ]
    },
    {
      "cell_type": "code",
      "source": [
        "#@title Students Grade in OOP\n",
        "Student_Name1 = \"Enter the student name\" #@param {type:\"string\"}\n",
        "prelim =  95#@param{type:\"number\"}\n",
        "midterm =  90#@param{type:\"number\"}\n",
        "final = 100 #@param{type:\"number\"}\n",
        "semestral_grade = (prelim+midterm+final)/3\n",
        "\n",
        "print(\"The prelim grade of student 1 is\"+\" \"+ str(prelim))\n",
        "print(\"The midterm grade of student 1 is\"+\" \"+ str(midterm))\n",
        "print(\"The final grade of student 1 is\"+\" \"+ str(final))\n",
        "print(\"The semestral grade of student 1 is\"+\" \"+ str(semestral_grade))\n",
        "\n",
        "#@title Gender\n",
        "Gender = \"Male\" #@param [\"Male\",\"Female\"]\n",
        "print(\"His gender is\"+\" \" + Gender)\n",
        "\n",
        "Birtdate = '2012-04-07'#@param {type: \"date\"}"
      ],
      "metadata": {
        "colab": {
          "base_uri": "https://localhost:8080/"
        },
        "id": "NP9hW-ulJol8",
        "outputId": "60f38dd4-e841-427d-e170-9c262a7c8805"
      },
      "execution_count": 16,
      "outputs": [
        {
          "output_type": "stream",
          "name": "stdout",
          "text": [
            "The prelim grade of student 1 is 95\n",
            "The midterm grade of student 1 is 90\n",
            "The final grade of student 1 is 100\n",
            "The semestral grade of student 1 is 95.0\n",
            "His gender is Male\n"
          ]
        }
      ]
    }
  ]
}