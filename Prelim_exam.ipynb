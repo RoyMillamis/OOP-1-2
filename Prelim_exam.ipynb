{
  "nbformat": 4,
  "nbformat_minor": 0,
  "metadata": {
    "colab": {
      "name": "Prelim exam.ipynb",
      "provenance": [],
      "authorship_tag": "ABX9TyP/LoEEvqLnbvjte96fMFd/",
      "include_colab_link": true
    },
    "kernelspec": {
      "name": "python3",
      "display_name": "Python 3"
    },
    "language_info": {
      "name": "python"
    }
  },
  "cells": [
    {
      "cell_type": "markdown",
      "metadata": {
        "id": "view-in-github",
        "colab_type": "text"
      },
      "source": [
        "<a href=\"https://colab.research.google.com/github/RoyMillamis/OOP-1-2/blob/main/Prelim_exam.ipynb\" target=\"_parent\"><img src=\"https://colab.research.google.com/assets/colab-badge.svg\" alt=\"Open In Colab\"/></a>"
      ]
    },
    {
      "cell_type": "markdown",
      "source": [
        "1.\tWrite a Python to display your full name, student number, age, and course\n",
        "2.\tCreate a class named Student with attributes: Name, Student_No, Age, School, and Course\n",
        "3.\tCreate an object name Myself and assign an instance for each attribute.\n",
        "4.\tCreate a method Info() using an instantiation of a class.\n",
        "5.\tInsert your GitHub link \"Prelim Exam\" from your repository named \"OOP 1-2\"\n"
      ],
      "metadata": {
        "id": "QikOSj--yuKQ"
      }
    },
    {
      "cell_type": "code",
      "source": [
        "class Student:\n",
        "  \n",
        "  def __init__(self,Name,Student_No,Age,School,Course):\n",
        "    self.Name=Name\n",
        "    self.Student_No=Student_No\n",
        "    self.Age=Age\n",
        "    self.School=School\n",
        "    self.Course=Course\n",
        "  \n",
        "  def info(self):\n",
        "    print(self.Name,self.Student_No,self.Age,self.School,self.Course)\n",
        "\n",
        "Myself = Student(\"Roy Millamis\",202101651,20,\"Cavite State University Main Campus\",\"Bachelor of Science in Computer Engineering\")\n",
        "\n",
        "print(Myself.Name)\n",
        "print(Myself.Student_No)\n",
        "print(Myself.Age)\n",
        "print(Myself.School)\n",
        "print(Myself.Course)\n",
        "print(Myself.info)\n",
        "Myself.info()\n",
        "    \n",
        "  \n",
        "  "
      ],
      "metadata": {
        "colab": {
          "base_uri": "https://localhost:8080/"
        },
        "id": "zckwB-gxyyGV",
        "outputId": "35b8ef48-53d7-4f26-9af1-81f3a73fc6f7"
      },
      "execution_count": 6,
      "outputs": [
        {
          "output_type": "stream",
          "name": "stdout",
          "text": [
            "Roy Millamis\n",
            "202101651\n",
            "20\n",
            "Cavite State University Main Campus\n",
            "Bachelor of Science in Computer Engineering\n",
            "<bound method Student.info of <__main__.Student object at 0x7f18fa8ea210>>\n",
            "Roy Millamis 202101651 20 Cavite State University Main Campus Bachelor of Science in Computer Engineering\n"
          ]
        }
      ]
    }
  ]
}